{
 "cells": [
  {
   "cell_type": "code",
   "execution_count": 2,
   "id": "3dd7b8db",
   "metadata": {},
   "outputs": [
    {
     "name": "stdout",
     "output_type": "stream",
     "text": [
      "peso: 2050, valor: 3400\n",
      "individuo: 1101111001110000011000, valor: 3400\n"
     ]
    }
   ],
   "source": [
    "import time\n",
    "import numpy as np\n",
    "from random import randint\n",
    "\n",
    "\n",
    "\n",
    "pesos_dos_objetos = np.array([350, 250, 160, 120, 200, 100, 120, 220, 40, 80, 100, 300, 180, 250, 220, 150, 280, 310, 120, 160, 110, 210])\n",
    "valor_dos_objetos = np.array([300, 400, 450, 350, 250, 300, 200, 250, 150, 400, 350, 300, 450, 500, 350, 400, 200, 300, 250, 300, 150, 200])\n",
    "\n",
    "peso_maximo = 3000\n",
    "\n",
    "tamanho_genoma = len(valor_dos_objetos)\n",
    "tamanho_pop = 1000\n",
    "\n",
    "\n",
    "\n",
    "def genoma_para_valor(genoma: str):\n",
    "    if len(genoma) != tamanho_genoma:\n",
    "        raise Exception(\"Genoma de tamanho errado\")\n",
    "\n",
    "    peso = 0\n",
    "    valor = 0\n",
    "\n",
    "    for pos, item in enumerate(genoma):\n",
    "        if item == '1':\n",
    "            peso += pesos_dos_objetos[pos]\n",
    "            valor += valor_dos_objetos[pos]\n",
    "\n",
    "    print(f\"peso: {peso}, valor: {valor}\")\n",
    "    \n",
    "    if peso > peso_maximo:\n",
    "        return 0\n",
    "    else:\n",
    "        return valor\n",
    "\n",
    "def gerar_individuo_aleatoriamente():\n",
    "    return ''.join([str(randint(0,1)) for i in range(tamanho_genoma)])\n",
    "\n",
    "class GeneticOptimization:\n",
    "    def __init__(self, probability_mutation=0.5):\n",
    "        self.probability_mutation = probability_mutation\n",
    "        self.population = [gerar_individuo_aleatoriamente() for i in range(tamanho_pop)]\n",
    "    \n",
    "        \n",
    "\n",
    "\n",
    "\n",
    "\n",
    "'''populacao = np.random.randint(2, size=(tamanho_da_populacao, tamanho_do_genoma))\n",
    "\n",
    "inicio= time.time()\n",
    "\n",
    "ponto_de_crossover = np.random.randint(tamanho_do_genoma - 1)\n",
    "\n",
    "# Mutação\n",
    "for i in range(tamanho_da_populacao):\n",
    "    for j in range(tamanho_do_genoma):\n",
    "        if np.random.rand() < taxa_de_mutacao:\n",
    "            # Inverte o bit\n",
    "            offspring[i, j] = 1 - offspring[i, j]\n",
    "\n",
    "\n",
    "pass\n",
    "fim = time.time()\n",
    "demorou = fim - inicio'''\n",
    "\n",
    "ind = gerar_individuo_aleatoriamente()\n",
    "\n",
    "print(f'individuo: {ind}, valor: {genoma_para_valor(ind)}')\n",
    "\n"
   ]
  }
 ],
 "metadata": {
  "kernelspec": {
   "display_name": ".venv",
   "language": "python",
   "name": "python3"
  },
  "language_info": {
   "codemirror_mode": {
    "name": "ipython",
    "version": 3
   },
   "file_extension": ".py",
   "mimetype": "text/x-python",
   "name": "python",
   "nbconvert_exporter": "python",
   "pygments_lexer": "ipython3",
   "version": "3.12.3"
  }
 },
 "nbformat": 4,
 "nbformat_minor": 5
}
